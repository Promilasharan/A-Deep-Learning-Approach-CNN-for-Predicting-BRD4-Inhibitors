{
  "nbformat": 4,
  "nbformat_minor": 0,
  "metadata": {
    "colab": {
      "provenance": [],
      "authorship_tag": "ABX9TyPwbXB1LtNT1nKwuG0B3SN/",
      "include_colab_link": true
    },
    "kernelspec": {
      "name": "python3",
      "display_name": "Python 3"
    },
    "language_info": {
      "name": "python"
    }
  },
  "cells": [
    {
      "cell_type": "markdown",
      "metadata": {
        "id": "view-in-github",
        "colab_type": "text"
      },
      "source": [
        "<a href=\"https://colab.research.google.com/github/Promilasharan/A-Deep-Learning-Approach-CNN-for-Predicting-BRD4-Inhibitors/blob/main/Deep_learning_for_predicting_BRD4_inhibitors.ipynb\" target=\"_parent\"><img src=\"https://colab.research.google.com/assets/colab-badge.svg\" alt=\"Open In Colab\"/></a>"
      ]
    },
    {
      "cell_type": "code",
      "execution_count": 175,
      "metadata": {
        "id": "afBiVhGOaT3E"
      },
      "outputs": [],
      "source": [
        "import tensorflow as tf"
      ]
    },
    {
      "cell_type": "code",
      "source": [
        "#BRD4 - Bromo-domain containing 4 inhibitors\n",
        "\n",
        "# steps:\n",
        "## Fetch Data from CheMBL database\n",
        "## Exploratory Data Analysis\n",
        "## Exploratory Molecular Data analysis\n",
        "## Feature Engineering (Genearting molecular fingerprints)\n",
        "## Dataset preparation for CNN\n",
        "## Build model\n",
        "## Train model\n",
        "## save model"
      ],
      "metadata": {
        "id": "kIlxmhuAc5Ll"
      },
      "execution_count": 176,
      "outputs": []
    },
    {
      "cell_type": "code",
      "source": [
        "from google.colab import drive\n",
        "drive.mount('/content/drive')"
      ],
      "metadata": {
        "id": "6n_VRNnVLTIa"
      },
      "execution_count": null,
      "outputs": []
    },
    {
      "cell_type": "code",
      "source": [
        "import pandas as pd\n",
        "import numpy as np\n"
      ],
      "metadata": {
        "id": "2T43fWwQfwN8"
      },
      "execution_count": 177,
      "outputs": []
    },
    {
      "cell_type": "code",
      "source": [
        "# Read the dataset\n",
        "df = pd.read_csv(\"brd4.csv\", sep=\";\", engine=\"python\",encoding='utf-8', on_bad_lines='skip')"
      ],
      "metadata": {
        "id": "zmjvKtZqfwT4"
      },
      "execution_count": 179,
      "outputs": []
    },
    {
      "cell_type": "code",
      "source": [
        "df.head(5)"
      ],
      "metadata": {
        "colab": {
          "base_uri": "https://localhost:8080/",
          "height": 450
        },
        "id": "HDnbzTlFfwY3",
        "outputId": "991fc766-9c5f-46b4-bdd2-89872c990cb0"
      },
      "execution_count": 180,
      "outputs": [
        {
          "output_type": "execute_result",
          "data": {
            "text/plain": [
              "  Molecule ChEMBL ID Molecule Name Molecule Max Phase Molecular Weight  \\\n",
              "0      CHEMBL1232461    MOLIBRESIB                2.0           423.90   \n",
              "1      CHEMBL1738926           NaN               None           423.48   \n",
              "2      CHEMBL2430877           NaN               None           472.94   \n",
              "3      CHEMBL2430894           NaN               None           453.50   \n",
              "4      CHEMBL3356139           NaN               None           380.45   \n",
              "\n",
              "  #RO5 Violations AlogP       Compound Key  \\\n",
              "0               0  3.66  I-BET, GSK525762A   \n",
              "1               0  4.35          GW-841819   \n",
              "2               0  4.55                28c   \n",
              "3               0  4.36                18f   \n",
              "4               0  3.12                  5   \n",
              "\n",
              "                                              Smiles Standard Type  \\\n",
              "0  CCNC(=O)C[C@@H]1N=C(c2ccc(Cl)cc2)c2cc(OC)ccc2-...          IC50   \n",
              "1  Cc1nnc2n1-c1ccccc1C(c1ccccc1)=N[C@H]2NC(=O)OCc...            Kd   \n",
              "2  COc1ccc2c(c1)C(c1ccc(Cl)cc1)=N[C@@H](CC(=O)Nc1...          IC50   \n",
              "3  COc1cccc(C2=NC(NC(=O)OCc3ccccc3)c3nnc(C)n3-c3c...          IC50   \n",
              "4    COc1ccccc1C(=O)Nc1cc2c(cc1N1CCCCC1)[nH]c(=O)n2C          IC50   \n",
              "\n",
              "  Standard Relation  ...  Target Organism     Target Type  Document ChEMBL ID  \\\n",
              "0               '='  ...     Homo sapiens  SINGLE PROTEIN       CHEMBL1955852   \n",
              "1               '='  ...     Homo sapiens  SINGLE PROTEIN       CHEMBL1955852   \n",
              "2               '='  ...     Homo sapiens  SINGLE PROTEIN       CHEMBL2429783   \n",
              "3               '='  ...     Homo sapiens  SINGLE PROTEIN       CHEMBL2429783   \n",
              "4               '='  ...     Homo sapiens  SINGLE PROTEIN       CHEMBL3352488   \n",
              "\n",
              "  Source ID     Source Description   Document Journal  Document Year  \\\n",
              "0         1  Scientific Literature    Bioorg Med Chem         2012.0   \n",
              "1         1  Scientific Literature    Bioorg Med Chem         2012.0   \n",
              "2         1  Scientific Literature         J Med Chem         2013.0   \n",
              "3         1  Scientific Literature         J Med Chem         2013.0   \n",
              "4         1  Scientific Literature  ACS Med Chem Lett         2014.0   \n",
              "\n",
              "  Cell ChEMBL ID Properties Action Type  \n",
              "0           None        NaN         NaN  \n",
              "1           None        NaN         NaN  \n",
              "2           None        NaN         NaN  \n",
              "3           None        NaN         NaN  \n",
              "4           None        NaN         NaN  \n",
              "\n",
              "[5 rows x 46 columns]"
            ],
            "text/html": [
              "\n",
              "\n",
              "  <div id=\"df-c779159c-576e-4848-9600-426f4b988046\">\n",
              "    <div class=\"colab-df-container\">\n",
              "      <div>\n",
              "<style scoped>\n",
              "    .dataframe tbody tr th:only-of-type {\n",
              "        vertical-align: middle;\n",
              "    }\n",
              "\n",
              "    .dataframe tbody tr th {\n",
              "        vertical-align: top;\n",
              "    }\n",
              "\n",
              "    .dataframe thead th {\n",
              "        text-align: right;\n",
              "    }\n",
              "</style>\n",
              "<table border=\"1\" class=\"dataframe\">\n",
              "  <thead>\n",
              "    <tr style=\"text-align: right;\">\n",
              "      <th></th>\n",
              "      <th>Molecule ChEMBL ID</th>\n",
              "      <th>Molecule Name</th>\n",
              "      <th>Molecule Max Phase</th>\n",
              "      <th>Molecular Weight</th>\n",
              "      <th>#RO5 Violations</th>\n",
              "      <th>AlogP</th>\n",
              "      <th>Compound Key</th>\n",
              "      <th>Smiles</th>\n",
              "      <th>Standard Type</th>\n",
              "      <th>Standard Relation</th>\n",
              "      <th>...</th>\n",
              "      <th>Target Organism</th>\n",
              "      <th>Target Type</th>\n",
              "      <th>Document ChEMBL ID</th>\n",
              "      <th>Source ID</th>\n",
              "      <th>Source Description</th>\n",
              "      <th>Document Journal</th>\n",
              "      <th>Document Year</th>\n",
              "      <th>Cell ChEMBL ID</th>\n",
              "      <th>Properties</th>\n",
              "      <th>Action Type</th>\n",
              "    </tr>\n",
              "  </thead>\n",
              "  <tbody>\n",
              "    <tr>\n",
              "      <th>0</th>\n",
              "      <td>CHEMBL1232461</td>\n",
              "      <td>MOLIBRESIB</td>\n",
              "      <td>2.0</td>\n",
              "      <td>423.90</td>\n",
              "      <td>0</td>\n",
              "      <td>3.66</td>\n",
              "      <td>I-BET, GSK525762A</td>\n",
              "      <td>CCNC(=O)C[C@@H]1N=C(c2ccc(Cl)cc2)c2cc(OC)ccc2-...</td>\n",
              "      <td>IC50</td>\n",
              "      <td>'='</td>\n",
              "      <td>...</td>\n",
              "      <td>Homo sapiens</td>\n",
              "      <td>SINGLE PROTEIN</td>\n",
              "      <td>CHEMBL1955852</td>\n",
              "      <td>1</td>\n",
              "      <td>Scientific Literature</td>\n",
              "      <td>Bioorg Med Chem</td>\n",
              "      <td>2012.0</td>\n",
              "      <td>None</td>\n",
              "      <td>NaN</td>\n",
              "      <td>NaN</td>\n",
              "    </tr>\n",
              "    <tr>\n",
              "      <th>1</th>\n",
              "      <td>CHEMBL1738926</td>\n",
              "      <td>NaN</td>\n",
              "      <td>None</td>\n",
              "      <td>423.48</td>\n",
              "      <td>0</td>\n",
              "      <td>4.35</td>\n",
              "      <td>GW-841819</td>\n",
              "      <td>Cc1nnc2n1-c1ccccc1C(c1ccccc1)=N[C@H]2NC(=O)OCc...</td>\n",
              "      <td>Kd</td>\n",
              "      <td>'='</td>\n",
              "      <td>...</td>\n",
              "      <td>Homo sapiens</td>\n",
              "      <td>SINGLE PROTEIN</td>\n",
              "      <td>CHEMBL1955852</td>\n",
              "      <td>1</td>\n",
              "      <td>Scientific Literature</td>\n",
              "      <td>Bioorg Med Chem</td>\n",
              "      <td>2012.0</td>\n",
              "      <td>None</td>\n",
              "      <td>NaN</td>\n",
              "      <td>NaN</td>\n",
              "    </tr>\n",
              "    <tr>\n",
              "      <th>2</th>\n",
              "      <td>CHEMBL2430877</td>\n",
              "      <td>NaN</td>\n",
              "      <td>None</td>\n",
              "      <td>472.94</td>\n",
              "      <td>0</td>\n",
              "      <td>4.55</td>\n",
              "      <td>28c</td>\n",
              "      <td>COc1ccc2c(c1)C(c1ccc(Cl)cc1)=N[C@@H](CC(=O)Nc1...</td>\n",
              "      <td>IC50</td>\n",
              "      <td>'='</td>\n",
              "      <td>...</td>\n",
              "      <td>Homo sapiens</td>\n",
              "      <td>SINGLE PROTEIN</td>\n",
              "      <td>CHEMBL2429783</td>\n",
              "      <td>1</td>\n",
              "      <td>Scientific Literature</td>\n",
              "      <td>J Med Chem</td>\n",
              "      <td>2013.0</td>\n",
              "      <td>None</td>\n",
              "      <td>NaN</td>\n",
              "      <td>NaN</td>\n",
              "    </tr>\n",
              "    <tr>\n",
              "      <th>3</th>\n",
              "      <td>CHEMBL2430894</td>\n",
              "      <td>NaN</td>\n",
              "      <td>None</td>\n",
              "      <td>453.50</td>\n",
              "      <td>0</td>\n",
              "      <td>4.36</td>\n",
              "      <td>18f</td>\n",
              "      <td>COc1cccc(C2=NC(NC(=O)OCc3ccccc3)c3nnc(C)n3-c3c...</td>\n",
              "      <td>IC50</td>\n",
              "      <td>'='</td>\n",
              "      <td>...</td>\n",
              "      <td>Homo sapiens</td>\n",
              "      <td>SINGLE PROTEIN</td>\n",
              "      <td>CHEMBL2429783</td>\n",
              "      <td>1</td>\n",
              "      <td>Scientific Literature</td>\n",
              "      <td>J Med Chem</td>\n",
              "      <td>2013.0</td>\n",
              "      <td>None</td>\n",
              "      <td>NaN</td>\n",
              "      <td>NaN</td>\n",
              "    </tr>\n",
              "    <tr>\n",
              "      <th>4</th>\n",
              "      <td>CHEMBL3356139</td>\n",
              "      <td>NaN</td>\n",
              "      <td>None</td>\n",
              "      <td>380.45</td>\n",
              "      <td>0</td>\n",
              "      <td>3.12</td>\n",
              "      <td>5</td>\n",
              "      <td>COc1ccccc1C(=O)Nc1cc2c(cc1N1CCCCC1)[nH]c(=O)n2C</td>\n",
              "      <td>IC50</td>\n",
              "      <td>'='</td>\n",
              "      <td>...</td>\n",
              "      <td>Homo sapiens</td>\n",
              "      <td>SINGLE PROTEIN</td>\n",
              "      <td>CHEMBL3352488</td>\n",
              "      <td>1</td>\n",
              "      <td>Scientific Literature</td>\n",
              "      <td>ACS Med Chem Lett</td>\n",
              "      <td>2014.0</td>\n",
              "      <td>None</td>\n",
              "      <td>NaN</td>\n",
              "      <td>NaN</td>\n",
              "    </tr>\n",
              "  </tbody>\n",
              "</table>\n",
              "<p>5 rows × 46 columns</p>\n",
              "</div>\n",
              "      <button class=\"colab-df-convert\" onclick=\"convertToInteractive('df-c779159c-576e-4848-9600-426f4b988046')\"\n",
              "              title=\"Convert this dataframe to an interactive table.\"\n",
              "              style=\"display:none;\">\n",
              "\n",
              "  <svg xmlns=\"http://www.w3.org/2000/svg\" height=\"24px\"viewBox=\"0 0 24 24\"\n",
              "       width=\"24px\">\n",
              "    <path d=\"M0 0h24v24H0V0z\" fill=\"none\"/>\n",
              "    <path d=\"M18.56 5.44l.94 2.06.94-2.06 2.06-.94-2.06-.94-.94-2.06-.94 2.06-2.06.94zm-11 1L8.5 8.5l.94-2.06 2.06-.94-2.06-.94L8.5 2.5l-.94 2.06-2.06.94zm10 10l.94 2.06.94-2.06 2.06-.94-2.06-.94-.94-2.06-.94 2.06-2.06.94z\"/><path d=\"M17.41 7.96l-1.37-1.37c-.4-.4-.92-.59-1.43-.59-.52 0-1.04.2-1.43.59L10.3 9.45l-7.72 7.72c-.78.78-.78 2.05 0 2.83L4 21.41c.39.39.9.59 1.41.59.51 0 1.02-.2 1.41-.59l7.78-7.78 2.81-2.81c.8-.78.8-2.07 0-2.86zM5.41 20L4 18.59l7.72-7.72 1.47 1.35L5.41 20z\"/>\n",
              "  </svg>\n",
              "      </button>\n",
              "\n",
              "\n",
              "\n",
              "    <div id=\"df-946dbf1f-c713-42e8-be6c-23864bb469e2\">\n",
              "      <button class=\"colab-df-quickchart\" onclick=\"quickchart('df-946dbf1f-c713-42e8-be6c-23864bb469e2')\"\n",
              "              title=\"Suggest charts.\"\n",
              "              style=\"display:none;\">\n",
              "\n",
              "<svg xmlns=\"http://www.w3.org/2000/svg\" height=\"24px\"viewBox=\"0 0 24 24\"\n",
              "     width=\"24px\">\n",
              "    <g>\n",
              "        <path d=\"M19 3H5c-1.1 0-2 .9-2 2v14c0 1.1.9 2 2 2h14c1.1 0 2-.9 2-2V5c0-1.1-.9-2-2-2zM9 17H7v-7h2v7zm4 0h-2V7h2v10zm4 0h-2v-4h2v4z\"/>\n",
              "    </g>\n",
              "</svg>\n",
              "      </button>\n",
              "    </div>\n",
              "\n",
              "<style>\n",
              "  .colab-df-quickchart {\n",
              "    background-color: #E8F0FE;\n",
              "    border: none;\n",
              "    border-radius: 50%;\n",
              "    cursor: pointer;\n",
              "    display: none;\n",
              "    fill: #1967D2;\n",
              "    height: 32px;\n",
              "    padding: 0 0 0 0;\n",
              "    width: 32px;\n",
              "  }\n",
              "\n",
              "  .colab-df-quickchart:hover {\n",
              "    background-color: #E2EBFA;\n",
              "    box-shadow: 0px 1px 2px rgba(60, 64, 67, 0.3), 0px 1px 3px 1px rgba(60, 64, 67, 0.15);\n",
              "    fill: #174EA6;\n",
              "  }\n",
              "\n",
              "  [theme=dark] .colab-df-quickchart {\n",
              "    background-color: #3B4455;\n",
              "    fill: #D2E3FC;\n",
              "  }\n",
              "\n",
              "  [theme=dark] .colab-df-quickchart:hover {\n",
              "    background-color: #434B5C;\n",
              "    box-shadow: 0px 1px 3px 1px rgba(0, 0, 0, 0.15);\n",
              "    filter: drop-shadow(0px 1px 2px rgba(0, 0, 0, 0.3));\n",
              "    fill: #FFFFFF;\n",
              "  }\n",
              "</style>\n",
              "\n",
              "    <script>\n",
              "      async function quickchart(key) {\n",
              "        const containerElement = document.querySelector('#' + key);\n",
              "        const charts = await google.colab.kernel.invokeFunction(\n",
              "            'suggestCharts', [key], {});\n",
              "      }\n",
              "    </script>\n",
              "\n",
              "      <script>\n",
              "\n",
              "function displayQuickchartButton(domScope) {\n",
              "  let quickchartButtonEl =\n",
              "    domScope.querySelector('#df-946dbf1f-c713-42e8-be6c-23864bb469e2 button.colab-df-quickchart');\n",
              "  quickchartButtonEl.style.display =\n",
              "    google.colab.kernel.accessAllowed ? 'block' : 'none';\n",
              "}\n",
              "\n",
              "        displayQuickchartButton(document);\n",
              "      </script>\n",
              "      <style>\n",
              "    .colab-df-container {\n",
              "      display:flex;\n",
              "      flex-wrap:wrap;\n",
              "      gap: 12px;\n",
              "    }\n",
              "\n",
              "    .colab-df-convert {\n",
              "      background-color: #E8F0FE;\n",
              "      border: none;\n",
              "      border-radius: 50%;\n",
              "      cursor: pointer;\n",
              "      display: none;\n",
              "      fill: #1967D2;\n",
              "      height: 32px;\n",
              "      padding: 0 0 0 0;\n",
              "      width: 32px;\n",
              "    }\n",
              "\n",
              "    .colab-df-convert:hover {\n",
              "      background-color: #E2EBFA;\n",
              "      box-shadow: 0px 1px 2px rgba(60, 64, 67, 0.3), 0px 1px 3px 1px rgba(60, 64, 67, 0.15);\n",
              "      fill: #174EA6;\n",
              "    }\n",
              "\n",
              "    [theme=dark] .colab-df-convert {\n",
              "      background-color: #3B4455;\n",
              "      fill: #D2E3FC;\n",
              "    }\n",
              "\n",
              "    [theme=dark] .colab-df-convert:hover {\n",
              "      background-color: #434B5C;\n",
              "      box-shadow: 0px 1px 3px 1px rgba(0, 0, 0, 0.15);\n",
              "      filter: drop-shadow(0px 1px 2px rgba(0, 0, 0, 0.3));\n",
              "      fill: #FFFFFF;\n",
              "    }\n",
              "  </style>\n",
              "\n",
              "      <script>\n",
              "        const buttonEl =\n",
              "          document.querySelector('#df-c779159c-576e-4848-9600-426f4b988046 button.colab-df-convert');\n",
              "        buttonEl.style.display =\n",
              "          google.colab.kernel.accessAllowed ? 'block' : 'none';\n",
              "\n",
              "        async function convertToInteractive(key) {\n",
              "          const element = document.querySelector('#df-c779159c-576e-4848-9600-426f4b988046');\n",
              "          const dataTable =\n",
              "            await google.colab.kernel.invokeFunction('convertToInteractive',\n",
              "                                                     [key], {});\n",
              "          if (!dataTable) return;\n",
              "\n",
              "          const docLinkHtml = 'Like what you see? Visit the ' +\n",
              "            '<a target=\"_blank\" href=https://colab.research.google.com/notebooks/data_table.ipynb>data table notebook</a>'\n",
              "            + ' to learn more about interactive tables.';\n",
              "          element.innerHTML = '';\n",
              "          dataTable['output_type'] = 'display_data';\n",
              "          await google.colab.output.renderOutput(dataTable, element);\n",
              "          const docLink = document.createElement('div');\n",
              "          docLink.innerHTML = docLinkHtml;\n",
              "          element.appendChild(docLink);\n",
              "        }\n",
              "      </script>\n",
              "    </div>\n",
              "  </div>\n"
            ]
          },
          "metadata": {},
          "execution_count": 180
        }
      ]
    },
    {
      "cell_type": "code",
      "source": [
        "df.shape"
      ],
      "metadata": {
        "colab": {
          "base_uri": "https://localhost:8080/"
        },
        "id": "7fnBpOwkfwa5",
        "outputId": "2d34d3ff-251e-45a4-82ee-1aa71cac898f"
      },
      "execution_count": 181,
      "outputs": [
        {
          "output_type": "execute_result",
          "data": {
            "text/plain": [
              "(4907, 46)"
            ]
          },
          "metadata": {},
          "execution_count": 181
        }
      ]
    },
    {
      "cell_type": "code",
      "source": [
        "df.columns"
      ],
      "metadata": {
        "colab": {
          "base_uri": "https://localhost:8080/"
        },
        "id": "NsX8v1gifwgZ",
        "outputId": "e0db6477-bf4c-47ad-c05f-cffc8f451463"
      },
      "execution_count": 182,
      "outputs": [
        {
          "output_type": "execute_result",
          "data": {
            "text/plain": [
              "Index(['Molecule ChEMBL ID', 'Molecule Name', 'Molecule Max Phase',\n",
              "       'Molecular Weight', '#RO5 Violations', 'AlogP', 'Compound Key',\n",
              "       'Smiles', 'Standard Type', 'Standard Relation', 'Standard Value',\n",
              "       'Standard Units', 'pChEMBL Value', 'Data Validity Comment', 'Comment',\n",
              "       'Uo Units', 'Ligand Efficiency BEI', 'Ligand Efficiency LE',\n",
              "       'Ligand Efficiency LLE', 'Ligand Efficiency SEI', 'Potential Duplicate',\n",
              "       'Assay ChEMBL ID', 'Assay Description', 'Assay Type', 'BAO Format ID',\n",
              "       'BAO Label', 'Assay Organism', 'Assay Tissue ChEMBL ID',\n",
              "       'Assay Tissue Name', 'Assay Cell Type', 'Assay Subcellular Fraction',\n",
              "       'Assay Parameters', 'Assay Variant Accession', 'Assay Variant Mutation',\n",
              "       'Target ChEMBL ID', 'Target Name', 'Target Organism', 'Target Type',\n",
              "       'Document ChEMBL ID', 'Source ID', 'Source Description',\n",
              "       'Document Journal', 'Document Year', 'Cell ChEMBL ID', 'Properties',\n",
              "       'Action Type'],\n",
              "      dtype='object')"
            ]
          },
          "metadata": {},
          "execution_count": 182
        }
      ]
    },
    {
      "cell_type": "code",
      "source": [
        "df=df[df[\"pChEMBL Value\"]>0]"
      ],
      "metadata": {
        "id": "-3dbY4clmfF4"
      },
      "execution_count": 183,
      "outputs": []
    },
    {
      "cell_type": "code",
      "source": [
        "df=df[['Molecule ChEMBL ID','Smiles','Standard Type', 'Standard Relation', 'Standard Value','Standard Units']]"
      ],
      "metadata": {
        "id": "b28RyO0YmCzc"
      },
      "execution_count": 184,
      "outputs": []
    },
    {
      "cell_type": "code",
      "source": [
        "df=df[df[\"Smiles\"].notna()]"
      ],
      "metadata": {
        "id": "9PrteY9vmC19"
      },
      "execution_count": 185,
      "outputs": []
    },
    {
      "cell_type": "code",
      "source": [
        "df=df[df[\"Standard Value\"].notna()]"
      ],
      "metadata": {
        "id": "3tz55Vb8mC4U"
      },
      "execution_count": 186,
      "outputs": []
    },
    {
      "cell_type": "code",
      "source": [
        "df.shape"
      ],
      "metadata": {
        "colab": {
          "base_uri": "https://localhost:8080/"
        },
        "id": "jAXXdngmmC66",
        "outputId": "0970db6e-0b27-481e-f115-c2e35bd4ad38"
      },
      "execution_count": 187,
      "outputs": [
        {
          "output_type": "execute_result",
          "data": {
            "text/plain": [
              "(3270, 6)"
            ]
          },
          "metadata": {},
          "execution_count": 187
        }
      ]
    },
    {
      "cell_type": "code",
      "source": [
        "df['Molecule ChEMBL ID'].value_counts()"
      ],
      "metadata": {
        "colab": {
          "base_uri": "https://localhost:8080/"
        },
        "id": "8jyx2PrqmC9D",
        "outputId": "a014c646-7373-44f5-f7cc-5fe944d1a082"
      },
      "execution_count": 188,
      "outputs": [
        {
          "output_type": "execute_result",
          "data": {
            "text/plain": [
              "CHEMBL1957266    66\n",
              "CHEMBL1232461    27\n",
              "CHEMBL2393130    18\n",
              "CHEMBL2017291    16\n",
              "CHEMBL513909     10\n",
              "                 ..\n",
              "CHEMBL4103140     1\n",
              "CHEMBL2179388     1\n",
              "CHEMBL2179378     1\n",
              "CHEMBL4577486     1\n",
              "CHEMBL4083840     1\n",
              "Name: Molecule ChEMBL ID, Length: 2455, dtype: int64"
            ]
          },
          "metadata": {},
          "execution_count": 188
        }
      ]
    },
    {
      "cell_type": "code",
      "source": [
        "df[\"newValue\"]=df[['Molecule ChEMBL ID','Smiles','Standard Type', 'Standard Relation', 'Standard Value','Standard Units']].groupby([\"Molecule ChEMBL ID\"]).transform(\"mean\")"
      ],
      "metadata": {
        "colab": {
          "base_uri": "https://localhost:8080/"
        },
        "id": "28BFUtO9mC_I",
        "outputId": "f54e1cb7-5471-409d-bf28-d8a646233425"
      },
      "execution_count": 189,
      "outputs": [
        {
          "output_type": "stream",
          "name": "stderr",
          "text": [
            "<ipython-input-189-fb4dd9e19de2>:1: FutureWarning: The default value of numeric_only in DataFrameGroupBy.mean is deprecated. In a future version, numeric_only will default to False. Either specify numeric_only or select only columns which should be valid for the function.\n",
            "  X[\"newValue\"]=X[['Molecule ChEMBL ID','Smiles','Standard Type', 'Standard Relation', 'Standard Value','Standard Units']].groupby([\"Molecule ChEMBL ID\"]).transform(\"mean\")\n"
          ]
        }
      ]
    },
    {
      "cell_type": "code",
      "source": [
        "df.head()"
      ],
      "metadata": {
        "colab": {
          "base_uri": "https://localhost:8080/",
          "height": 282
        },
        "id": "h5B700-OmDBb",
        "outputId": "cb81364b-1414-4ad9-d6d2-ba7d2dc2d2d4"
      },
      "execution_count": 190,
      "outputs": [
        {
          "output_type": "execute_result",
          "data": {
            "text/plain": [
              "  Molecule ChEMBL ID                                             Smiles  \\\n",
              "0      CHEMBL1232461  CCNC(=O)C[C@@H]1N=C(c2ccc(Cl)cc2)c2cc(OC)ccc2-...   \n",
              "1      CHEMBL1738926  Cc1nnc2n1-c1ccccc1C(c1ccccc1)=N[C@H]2NC(=O)OCc...   \n",
              "2      CHEMBL2430877  COc1ccc2c(c1)C(c1ccc(Cl)cc1)=N[C@@H](CC(=O)Nc1...   \n",
              "3      CHEMBL2430894  COc1cccc(C2=NC(NC(=O)OCc3ccccc3)c3nnc(C)n3-c3c...   \n",
              "4      CHEMBL3356139    COc1ccccc1C(=O)Nc1cc2c(cc1N1CCCCC1)[nH]c(=O)n2C   \n",
              "\n",
              "  Standard Type Standard Relation  Standard Value Standard Units     newValue  \n",
              "0          IC50               '='           36.10             nM   183.661481  \n",
              "1            Kd               '='           52.50             nM   139.400000  \n",
              "2          IC50               '='          398.11             nM   398.110000  \n",
              "3          IC50               '='         1000.00             nM  1000.000000  \n",
              "4          IC50               '='         1584.89             nM  1584.890000  "
            ],
            "text/html": [
              "\n",
              "\n",
              "  <div id=\"df-5f308b04-8d54-4c9d-bb8a-c728b83f920b\">\n",
              "    <div class=\"colab-df-container\">\n",
              "      <div>\n",
              "<style scoped>\n",
              "    .dataframe tbody tr th:only-of-type {\n",
              "        vertical-align: middle;\n",
              "    }\n",
              "\n",
              "    .dataframe tbody tr th {\n",
              "        vertical-align: top;\n",
              "    }\n",
              "\n",
              "    .dataframe thead th {\n",
              "        text-align: right;\n",
              "    }\n",
              "</style>\n",
              "<table border=\"1\" class=\"dataframe\">\n",
              "  <thead>\n",
              "    <tr style=\"text-align: right;\">\n",
              "      <th></th>\n",
              "      <th>Molecule ChEMBL ID</th>\n",
              "      <th>Smiles</th>\n",
              "      <th>Standard Type</th>\n",
              "      <th>Standard Relation</th>\n",
              "      <th>Standard Value</th>\n",
              "      <th>Standard Units</th>\n",
              "      <th>newValue</th>\n",
              "    </tr>\n",
              "  </thead>\n",
              "  <tbody>\n",
              "    <tr>\n",
              "      <th>0</th>\n",
              "      <td>CHEMBL1232461</td>\n",
              "      <td>CCNC(=O)C[C@@H]1N=C(c2ccc(Cl)cc2)c2cc(OC)ccc2-...</td>\n",
              "      <td>IC50</td>\n",
              "      <td>'='</td>\n",
              "      <td>36.10</td>\n",
              "      <td>nM</td>\n",
              "      <td>183.661481</td>\n",
              "    </tr>\n",
              "    <tr>\n",
              "      <th>1</th>\n",
              "      <td>CHEMBL1738926</td>\n",
              "      <td>Cc1nnc2n1-c1ccccc1C(c1ccccc1)=N[C@H]2NC(=O)OCc...</td>\n",
              "      <td>Kd</td>\n",
              "      <td>'='</td>\n",
              "      <td>52.50</td>\n",
              "      <td>nM</td>\n",
              "      <td>139.400000</td>\n",
              "    </tr>\n",
              "    <tr>\n",
              "      <th>2</th>\n",
              "      <td>CHEMBL2430877</td>\n",
              "      <td>COc1ccc2c(c1)C(c1ccc(Cl)cc1)=N[C@@H](CC(=O)Nc1...</td>\n",
              "      <td>IC50</td>\n",
              "      <td>'='</td>\n",
              "      <td>398.11</td>\n",
              "      <td>nM</td>\n",
              "      <td>398.110000</td>\n",
              "    </tr>\n",
              "    <tr>\n",
              "      <th>3</th>\n",
              "      <td>CHEMBL2430894</td>\n",
              "      <td>COc1cccc(C2=NC(NC(=O)OCc3ccccc3)c3nnc(C)n3-c3c...</td>\n",
              "      <td>IC50</td>\n",
              "      <td>'='</td>\n",
              "      <td>1000.00</td>\n",
              "      <td>nM</td>\n",
              "      <td>1000.000000</td>\n",
              "    </tr>\n",
              "    <tr>\n",
              "      <th>4</th>\n",
              "      <td>CHEMBL3356139</td>\n",
              "      <td>COc1ccccc1C(=O)Nc1cc2c(cc1N1CCCCC1)[nH]c(=O)n2C</td>\n",
              "      <td>IC50</td>\n",
              "      <td>'='</td>\n",
              "      <td>1584.89</td>\n",
              "      <td>nM</td>\n",
              "      <td>1584.890000</td>\n",
              "    </tr>\n",
              "  </tbody>\n",
              "</table>\n",
              "</div>\n",
              "      <button class=\"colab-df-convert\" onclick=\"convertToInteractive('df-5f308b04-8d54-4c9d-bb8a-c728b83f920b')\"\n",
              "              title=\"Convert this dataframe to an interactive table.\"\n",
              "              style=\"display:none;\">\n",
              "\n",
              "  <svg xmlns=\"http://www.w3.org/2000/svg\" height=\"24px\"viewBox=\"0 0 24 24\"\n",
              "       width=\"24px\">\n",
              "    <path d=\"M0 0h24v24H0V0z\" fill=\"none\"/>\n",
              "    <path d=\"M18.56 5.44l.94 2.06.94-2.06 2.06-.94-2.06-.94-.94-2.06-.94 2.06-2.06.94zm-11 1L8.5 8.5l.94-2.06 2.06-.94-2.06-.94L8.5 2.5l-.94 2.06-2.06.94zm10 10l.94 2.06.94-2.06 2.06-.94-2.06-.94-.94-2.06-.94 2.06-2.06.94z\"/><path d=\"M17.41 7.96l-1.37-1.37c-.4-.4-.92-.59-1.43-.59-.52 0-1.04.2-1.43.59L10.3 9.45l-7.72 7.72c-.78.78-.78 2.05 0 2.83L4 21.41c.39.39.9.59 1.41.59.51 0 1.02-.2 1.41-.59l7.78-7.78 2.81-2.81c.8-.78.8-2.07 0-2.86zM5.41 20L4 18.59l7.72-7.72 1.47 1.35L5.41 20z\"/>\n",
              "  </svg>\n",
              "      </button>\n",
              "\n",
              "\n",
              "\n",
              "    <div id=\"df-6ee754d9-f79c-4f4d-b063-5960dcead15e\">\n",
              "      <button class=\"colab-df-quickchart\" onclick=\"quickchart('df-6ee754d9-f79c-4f4d-b063-5960dcead15e')\"\n",
              "              title=\"Suggest charts.\"\n",
              "              style=\"display:none;\">\n",
              "\n",
              "<svg xmlns=\"http://www.w3.org/2000/svg\" height=\"24px\"viewBox=\"0 0 24 24\"\n",
              "     width=\"24px\">\n",
              "    <g>\n",
              "        <path d=\"M19 3H5c-1.1 0-2 .9-2 2v14c0 1.1.9 2 2 2h14c1.1 0 2-.9 2-2V5c0-1.1-.9-2-2-2zM9 17H7v-7h2v7zm4 0h-2V7h2v10zm4 0h-2v-4h2v4z\"/>\n",
              "    </g>\n",
              "</svg>\n",
              "      </button>\n",
              "    </div>\n",
              "\n",
              "<style>\n",
              "  .colab-df-quickchart {\n",
              "    background-color: #E8F0FE;\n",
              "    border: none;\n",
              "    border-radius: 50%;\n",
              "    cursor: pointer;\n",
              "    display: none;\n",
              "    fill: #1967D2;\n",
              "    height: 32px;\n",
              "    padding: 0 0 0 0;\n",
              "    width: 32px;\n",
              "  }\n",
              "\n",
              "  .colab-df-quickchart:hover {\n",
              "    background-color: #E2EBFA;\n",
              "    box-shadow: 0px 1px 2px rgba(60, 64, 67, 0.3), 0px 1px 3px 1px rgba(60, 64, 67, 0.15);\n",
              "    fill: #174EA6;\n",
              "  }\n",
              "\n",
              "  [theme=dark] .colab-df-quickchart {\n",
              "    background-color: #3B4455;\n",
              "    fill: #D2E3FC;\n",
              "  }\n",
              "\n",
              "  [theme=dark] .colab-df-quickchart:hover {\n",
              "    background-color: #434B5C;\n",
              "    box-shadow: 0px 1px 3px 1px rgba(0, 0, 0, 0.15);\n",
              "    filter: drop-shadow(0px 1px 2px rgba(0, 0, 0, 0.3));\n",
              "    fill: #FFFFFF;\n",
              "  }\n",
              "</style>\n",
              "\n",
              "    <script>\n",
              "      async function quickchart(key) {\n",
              "        const containerElement = document.querySelector('#' + key);\n",
              "        const charts = await google.colab.kernel.invokeFunction(\n",
              "            'suggestCharts', [key], {});\n",
              "      }\n",
              "    </script>\n",
              "\n",
              "      <script>\n",
              "\n",
              "function displayQuickchartButton(domScope) {\n",
              "  let quickchartButtonEl =\n",
              "    domScope.querySelector('#df-6ee754d9-f79c-4f4d-b063-5960dcead15e button.colab-df-quickchart');\n",
              "  quickchartButtonEl.style.display =\n",
              "    google.colab.kernel.accessAllowed ? 'block' : 'none';\n",
              "}\n",
              "\n",
              "        displayQuickchartButton(document);\n",
              "      </script>\n",
              "      <style>\n",
              "    .colab-df-container {\n",
              "      display:flex;\n",
              "      flex-wrap:wrap;\n",
              "      gap: 12px;\n",
              "    }\n",
              "\n",
              "    .colab-df-convert {\n",
              "      background-color: #E8F0FE;\n",
              "      border: none;\n",
              "      border-radius: 50%;\n",
              "      cursor: pointer;\n",
              "      display: none;\n",
              "      fill: #1967D2;\n",
              "      height: 32px;\n",
              "      padding: 0 0 0 0;\n",
              "      width: 32px;\n",
              "    }\n",
              "\n",
              "    .colab-df-convert:hover {\n",
              "      background-color: #E2EBFA;\n",
              "      box-shadow: 0px 1px 2px rgba(60, 64, 67, 0.3), 0px 1px 3px 1px rgba(60, 64, 67, 0.15);\n",
              "      fill: #174EA6;\n",
              "    }\n",
              "\n",
              "    [theme=dark] .colab-df-convert {\n",
              "      background-color: #3B4455;\n",
              "      fill: #D2E3FC;\n",
              "    }\n",
              "\n",
              "    [theme=dark] .colab-df-convert:hover {\n",
              "      background-color: #434B5C;\n",
              "      box-shadow: 0px 1px 3px 1px rgba(0, 0, 0, 0.15);\n",
              "      filter: drop-shadow(0px 1px 2px rgba(0, 0, 0, 0.3));\n",
              "      fill: #FFFFFF;\n",
              "    }\n",
              "  </style>\n",
              "\n",
              "      <script>\n",
              "        const buttonEl =\n",
              "          document.querySelector('#df-5f308b04-8d54-4c9d-bb8a-c728b83f920b button.colab-df-convert');\n",
              "        buttonEl.style.display =\n",
              "          google.colab.kernel.accessAllowed ? 'block' : 'none';\n",
              "\n",
              "        async function convertToInteractive(key) {\n",
              "          const element = document.querySelector('#df-5f308b04-8d54-4c9d-bb8a-c728b83f920b');\n",
              "          const dataTable =\n",
              "            await google.colab.kernel.invokeFunction('convertToInteractive',\n",
              "                                                     [key], {});\n",
              "          if (!dataTable) return;\n",
              "\n",
              "          const docLinkHtml = 'Like what you see? Visit the ' +\n",
              "            '<a target=\"_blank\" href=https://colab.research.google.com/notebooks/data_table.ipynb>data table notebook</a>'\n",
              "            + ' to learn more about interactive tables.';\n",
              "          element.innerHTML = '';\n",
              "          dataTable['output_type'] = 'display_data';\n",
              "          await google.colab.output.renderOutput(dataTable, element);\n",
              "          const docLink = document.createElement('div');\n",
              "          docLink.innerHTML = docLinkHtml;\n",
              "          element.appendChild(docLink);\n",
              "        }\n",
              "      </script>\n",
              "    </div>\n",
              "  </div>\n"
            ]
          },
          "metadata": {},
          "execution_count": 190
        }
      ]
    },
    {
      "cell_type": "code",
      "source": [
        "df['Standard Units'].value_counts()"
      ],
      "metadata": {
        "colab": {
          "base_uri": "https://localhost:8080/"
        },
        "id": "UMEl_WoVmDDS",
        "outputId": "3f338caf-2ba4-4514-a1b2-fa480dbf7d6e"
      },
      "execution_count": 191,
      "outputs": [
        {
          "output_type": "execute_result",
          "data": {
            "text/plain": [
              "nM    3270\n",
              "Name: Standard Units, dtype: int64"
            ]
          },
          "metadata": {},
          "execution_count": 191
        }
      ]
    },
    {
      "cell_type": "code",
      "source": [
        "df=df.sort_values(\"newValue\", ascending=True)"
      ],
      "metadata": {
        "id": "dBo_51K2mDFE"
      },
      "execution_count": 192,
      "outputs": []
    },
    {
      "cell_type": "code",
      "source": [
        "df=df.drop_duplicates(\"Molecule ChEMBL ID\")"
      ],
      "metadata": {
        "id": "ve2wueMHpuN1"
      },
      "execution_count": 193,
      "outputs": []
    },
    {
      "cell_type": "code",
      "source": [
        "df.shape"
      ],
      "metadata": {
        "colab": {
          "base_uri": "https://localhost:8080/"
        },
        "id": "gH6aEStJpuRX",
        "outputId": "6d34d427-309f-4a66-b057-36360a45d570"
      },
      "execution_count": 194,
      "outputs": [
        {
          "output_type": "execute_result",
          "data": {
            "text/plain": [
              "(2455, 7)"
            ]
          },
          "metadata": {},
          "execution_count": 194
        }
      ]
    },
    {
      "cell_type": "code",
      "source": [
        "actives=df.loc[df[\"newValue\"]<=5000]"
      ],
      "metadata": {
        "id": "6yePyTPbpuUO"
      },
      "execution_count": 195,
      "outputs": []
    },
    {
      "cell_type": "code",
      "source": [
        "actives.shape\n"
      ],
      "metadata": {
        "colab": {
          "base_uri": "https://localhost:8080/"
        },
        "id": "HER684dyfwoz",
        "outputId": "afa35464-e46b-47f9-e597-4e095aa5bbb7"
      },
      "execution_count": 196,
      "outputs": [
        {
          "output_type": "execute_result",
          "data": {
            "text/plain": [
              "(1961, 7)"
            ]
          },
          "metadata": {},
          "execution_count": 196
        }
      ]
    },
    {
      "cell_type": "code",
      "source": [
        "inactives=df.loc[df[\"newValue\"]>=10000]"
      ],
      "metadata": {
        "id": "lLWdwPMsqzaq"
      },
      "execution_count": 197,
      "outputs": []
    },
    {
      "cell_type": "code",
      "source": [
        "inactives.shape\n"
      ],
      "metadata": {
        "colab": {
          "base_uri": "https://localhost:8080/"
        },
        "id": "nih_BK9oqzc7",
        "outputId": "f217229a-f976-40a8-b308-ee4d754ce400"
      },
      "execution_count": 198,
      "outputs": [
        {
          "output_type": "execute_result",
          "data": {
            "text/plain": [
              "(330, 7)"
            ]
          },
          "metadata": {},
          "execution_count": 198
        }
      ]
    },
    {
      "cell_type": "code",
      "source": [
        "#we have imbalanced datset corresponding to actives and inactives molecules"
      ],
      "metadata": {
        "id": "Q3m1HZFrqzfi"
      },
      "execution_count": null,
      "outputs": []
    },
    {
      "cell_type": "code",
      "source": [
        "actives[\"label\"]=1\n",
        "inactives[\"label\"]=0"
      ],
      "metadata": {
        "colab": {
          "base_uri": "https://localhost:8080/"
        },
        "id": "9pA5EgN5qzhp",
        "outputId": "85db5f08-f087-4141-8a5e-5cb4c6af0d86"
      },
      "execution_count": 199,
      "outputs": [
        {
          "output_type": "stream",
          "name": "stderr",
          "text": [
            "<ipython-input-199-b0c878b30378>:1: SettingWithCopyWarning: \n",
            "A value is trying to be set on a copy of a slice from a DataFrame.\n",
            "Try using .loc[row_indexer,col_indexer] = value instead\n",
            "\n",
            "See the caveats in the documentation: https://pandas.pydata.org/pandas-docs/stable/user_guide/indexing.html#returning-a-view-versus-a-copy\n",
            "  actives[\"label\"]=1\n",
            "<ipython-input-199-b0c878b30378>:2: SettingWithCopyWarning: \n",
            "A value is trying to be set on a copy of a slice from a DataFrame.\n",
            "Try using .loc[row_indexer,col_indexer] = value instead\n",
            "\n",
            "See the caveats in the documentation: https://pandas.pydata.org/pandas-docs/stable/user_guide/indexing.html#returning-a-view-versus-a-copy\n",
            "  inactives[\"label\"]=0\n"
          ]
        }
      ]
    },
    {
      "cell_type": "code",
      "source": [
        "combined=pd.concat([actives,inactives],axis=0)"
      ],
      "metadata": {
        "id": "kFD8_9V7qzjv"
      },
      "execution_count": 200,
      "outputs": []
    },
    {
      "cell_type": "code",
      "source": [
        "combined"
      ],
      "metadata": {
        "colab": {
          "base_uri": "https://localhost:8080/",
          "height": 565
        },
        "id": "lK1doO3Dqzlm",
        "outputId": "5260abe0-11f5-4ecc-c2bf-7ba0f0fbc7fd"
      },
      "execution_count": 153,
      "outputs": [
        {
          "output_type": "execute_result",
          "data": {
            "text/plain": [
              "     Molecule ChEMBL ID                                             Smiles  \\\n",
              "765       CHEMBL3895096  Cc1sc2c(c1C)C(c1ccc(Cl)cc1)=N[C@@H](CC(=O)N/N=...   \n",
              "3177      CHEMBL3898684  CCS(=O)(=O)Nc1ccc(Oc2ccccc2)c(-c2cn(C)c(=O)c3[...   \n",
              "2245      CHEMBL4166630  COc1cc2c(cc1-c1c(C)noc1C)[nH]c1nc(C)nc(Nc3cc(C...   \n",
              "4047      CHEMBL4435166  CCNC(=O)c1cc2c(-c3cc(NC(C)=O)ccc3Oc3c(C)cccc3C...   \n",
              "4234      CHEMBL4555714  Cc1cc(F)cc(C)c1Oc1ccc(C(C)(C)O)cc1-c1cn(C)c(=O...   \n",
              "...                 ...                                                ...   \n",
              "1396      CHEMBL4547160              Cc1cc(OC2CCN(C(=O)C3CCC3)CC2)cc(=O)o1   \n",
              "3450      CHEMBL4788775                               CN1CC(c2ccccc2)CC1=O   \n",
              "4905      CHEMBL4538721                             COC(=O)CC1CC(=O)N(C)C1   \n",
              "1529        CHEMBL12543                                         CN1CCCC1=O   \n",
              "1401      CHEMBL4448567                              COC(=O)C1CC(=O)N(C)C1   \n",
              "\n",
              "     Standard Type Standard Relation  Standard Value Standard Units  \\\n",
              "765           IC50               '='            0.24             nM   \n",
              "3177            Ki               '='            0.25             nM   \n",
              "2245            Ki               '='            0.50             nM   \n",
              "4047            Ki               '='            0.50             nM   \n",
              "4234            Ki               '='            0.50             nM   \n",
              "...            ...               ...             ...            ...   \n",
              "1396            Kd               '='       960000.00             nM   \n",
              "3450          IC50               '='      1140000.00             nM   \n",
              "4905          IC50               '='      2120000.00             nM   \n",
              "1529          IC50               '='      2660000.00             nM   \n",
              "1401          IC50               '='      6880000.00             nM   \n",
              "\n",
              "        newValue  label  \n",
              "765         0.24      1  \n",
              "3177        0.32      1  \n",
              "2245        0.50      1  \n",
              "4047        0.50      1  \n",
              "4234        0.50      1  \n",
              "...          ...    ...  \n",
              "1396   960000.00      0  \n",
              "3450  1140000.00      0  \n",
              "4905  2120000.00      0  \n",
              "1529  2660000.00      0  \n",
              "1401  6880000.00      0  \n",
              "\n",
              "[2291 rows x 8 columns]"
            ],
            "text/html": [
              "\n",
              "\n",
              "  <div id=\"df-ba204fd4-d6c2-4438-bc01-53ed969393b4\">\n",
              "    <div class=\"colab-df-container\">\n",
              "      <div>\n",
              "<style scoped>\n",
              "    .dataframe tbody tr th:only-of-type {\n",
              "        vertical-align: middle;\n",
              "    }\n",
              "\n",
              "    .dataframe tbody tr th {\n",
              "        vertical-align: top;\n",
              "    }\n",
              "\n",
              "    .dataframe thead th {\n",
              "        text-align: right;\n",
              "    }\n",
              "</style>\n",
              "<table border=\"1\" class=\"dataframe\">\n",
              "  <thead>\n",
              "    <tr style=\"text-align: right;\">\n",
              "      <th></th>\n",
              "      <th>Molecule ChEMBL ID</th>\n",
              "      <th>Smiles</th>\n",
              "      <th>Standard Type</th>\n",
              "      <th>Standard Relation</th>\n",
              "      <th>Standard Value</th>\n",
              "      <th>Standard Units</th>\n",
              "      <th>newValue</th>\n",
              "      <th>label</th>\n",
              "    </tr>\n",
              "  </thead>\n",
              "  <tbody>\n",
              "    <tr>\n",
              "      <th>765</th>\n",
              "      <td>CHEMBL3895096</td>\n",
              "      <td>Cc1sc2c(c1C)C(c1ccc(Cl)cc1)=N[C@@H](CC(=O)N/N=...</td>\n",
              "      <td>IC50</td>\n",
              "      <td>'='</td>\n",
              "      <td>0.24</td>\n",
              "      <td>nM</td>\n",
              "      <td>0.24</td>\n",
              "      <td>1</td>\n",
              "    </tr>\n",
              "    <tr>\n",
              "      <th>3177</th>\n",
              "      <td>CHEMBL3898684</td>\n",
              "      <td>CCS(=O)(=O)Nc1ccc(Oc2ccccc2)c(-c2cn(C)c(=O)c3[...</td>\n",
              "      <td>Ki</td>\n",
              "      <td>'='</td>\n",
              "      <td>0.25</td>\n",
              "      <td>nM</td>\n",
              "      <td>0.32</td>\n",
              "      <td>1</td>\n",
              "    </tr>\n",
              "    <tr>\n",
              "      <th>2245</th>\n",
              "      <td>CHEMBL4166630</td>\n",
              "      <td>COc1cc2c(cc1-c1c(C)noc1C)[nH]c1nc(C)nc(Nc3cc(C...</td>\n",
              "      <td>Ki</td>\n",
              "      <td>'='</td>\n",
              "      <td>0.50</td>\n",
              "      <td>nM</td>\n",
              "      <td>0.50</td>\n",
              "      <td>1</td>\n",
              "    </tr>\n",
              "    <tr>\n",
              "      <th>4047</th>\n",
              "      <td>CHEMBL4435166</td>\n",
              "      <td>CCNC(=O)c1cc2c(-c3cc(NC(C)=O)ccc3Oc3c(C)cccc3C...</td>\n",
              "      <td>Ki</td>\n",
              "      <td>'='</td>\n",
              "      <td>0.50</td>\n",
              "      <td>nM</td>\n",
              "      <td>0.50</td>\n",
              "      <td>1</td>\n",
              "    </tr>\n",
              "    <tr>\n",
              "      <th>4234</th>\n",
              "      <td>CHEMBL4555714</td>\n",
              "      <td>Cc1cc(F)cc(C)c1Oc1ccc(C(C)(C)O)cc1-c1cn(C)c(=O...</td>\n",
              "      <td>Ki</td>\n",
              "      <td>'='</td>\n",
              "      <td>0.50</td>\n",
              "      <td>nM</td>\n",
              "      <td>0.50</td>\n",
              "      <td>1</td>\n",
              "    </tr>\n",
              "    <tr>\n",
              "      <th>...</th>\n",
              "      <td>...</td>\n",
              "      <td>...</td>\n",
              "      <td>...</td>\n",
              "      <td>...</td>\n",
              "      <td>...</td>\n",
              "      <td>...</td>\n",
              "      <td>...</td>\n",
              "      <td>...</td>\n",
              "    </tr>\n",
              "    <tr>\n",
              "      <th>1396</th>\n",
              "      <td>CHEMBL4547160</td>\n",
              "      <td>Cc1cc(OC2CCN(C(=O)C3CCC3)CC2)cc(=O)o1</td>\n",
              "      <td>Kd</td>\n",
              "      <td>'='</td>\n",
              "      <td>960000.00</td>\n",
              "      <td>nM</td>\n",
              "      <td>960000.00</td>\n",
              "      <td>0</td>\n",
              "    </tr>\n",
              "    <tr>\n",
              "      <th>3450</th>\n",
              "      <td>CHEMBL4788775</td>\n",
              "      <td>CN1CC(c2ccccc2)CC1=O</td>\n",
              "      <td>IC50</td>\n",
              "      <td>'='</td>\n",
              "      <td>1140000.00</td>\n",
              "      <td>nM</td>\n",
              "      <td>1140000.00</td>\n",
              "      <td>0</td>\n",
              "    </tr>\n",
              "    <tr>\n",
              "      <th>4905</th>\n",
              "      <td>CHEMBL4538721</td>\n",
              "      <td>COC(=O)CC1CC(=O)N(C)C1</td>\n",
              "      <td>IC50</td>\n",
              "      <td>'='</td>\n",
              "      <td>2120000.00</td>\n",
              "      <td>nM</td>\n",
              "      <td>2120000.00</td>\n",
              "      <td>0</td>\n",
              "    </tr>\n",
              "    <tr>\n",
              "      <th>1529</th>\n",
              "      <td>CHEMBL12543</td>\n",
              "      <td>CN1CCCC1=O</td>\n",
              "      <td>IC50</td>\n",
              "      <td>'='</td>\n",
              "      <td>2660000.00</td>\n",
              "      <td>nM</td>\n",
              "      <td>2660000.00</td>\n",
              "      <td>0</td>\n",
              "    </tr>\n",
              "    <tr>\n",
              "      <th>1401</th>\n",
              "      <td>CHEMBL4448567</td>\n",
              "      <td>COC(=O)C1CC(=O)N(C)C1</td>\n",
              "      <td>IC50</td>\n",
              "      <td>'='</td>\n",
              "      <td>6880000.00</td>\n",
              "      <td>nM</td>\n",
              "      <td>6880000.00</td>\n",
              "      <td>0</td>\n",
              "    </tr>\n",
              "  </tbody>\n",
              "</table>\n",
              "<p>2291 rows × 8 columns</p>\n",
              "</div>\n",
              "      <button class=\"colab-df-convert\" onclick=\"convertToInteractive('df-ba204fd4-d6c2-4438-bc01-53ed969393b4')\"\n",
              "              title=\"Convert this dataframe to an interactive table.\"\n",
              "              style=\"display:none;\">\n",
              "\n",
              "  <svg xmlns=\"http://www.w3.org/2000/svg\" height=\"24px\"viewBox=\"0 0 24 24\"\n",
              "       width=\"24px\">\n",
              "    <path d=\"M0 0h24v24H0V0z\" fill=\"none\"/>\n",
              "    <path d=\"M18.56 5.44l.94 2.06.94-2.06 2.06-.94-2.06-.94-.94-2.06-.94 2.06-2.06.94zm-11 1L8.5 8.5l.94-2.06 2.06-.94-2.06-.94L8.5 2.5l-.94 2.06-2.06.94zm10 10l.94 2.06.94-2.06 2.06-.94-2.06-.94-.94-2.06-.94 2.06-2.06.94z\"/><path d=\"M17.41 7.96l-1.37-1.37c-.4-.4-.92-.59-1.43-.59-.52 0-1.04.2-1.43.59L10.3 9.45l-7.72 7.72c-.78.78-.78 2.05 0 2.83L4 21.41c.39.39.9.59 1.41.59.51 0 1.02-.2 1.41-.59l7.78-7.78 2.81-2.81c.8-.78.8-2.07 0-2.86zM5.41 20L4 18.59l7.72-7.72 1.47 1.35L5.41 20z\"/>\n",
              "  </svg>\n",
              "      </button>\n",
              "\n",
              "\n",
              "\n",
              "    <div id=\"df-4c87f36b-c116-4afb-a1ee-1beb6feb19a3\">\n",
              "      <button class=\"colab-df-quickchart\" onclick=\"quickchart('df-4c87f36b-c116-4afb-a1ee-1beb6feb19a3')\"\n",
              "              title=\"Suggest charts.\"\n",
              "              style=\"display:none;\">\n",
              "\n",
              "<svg xmlns=\"http://www.w3.org/2000/svg\" height=\"24px\"viewBox=\"0 0 24 24\"\n",
              "     width=\"24px\">\n",
              "    <g>\n",
              "        <path d=\"M19 3H5c-1.1 0-2 .9-2 2v14c0 1.1.9 2 2 2h14c1.1 0 2-.9 2-2V5c0-1.1-.9-2-2-2zM9 17H7v-7h2v7zm4 0h-2V7h2v10zm4 0h-2v-4h2v4z\"/>\n",
              "    </g>\n",
              "</svg>\n",
              "      </button>\n",
              "    </div>\n",
              "\n",
              "<style>\n",
              "  .colab-df-quickchart {\n",
              "    background-color: #E8F0FE;\n",
              "    border: none;\n",
              "    border-radius: 50%;\n",
              "    cursor: pointer;\n",
              "    display: none;\n",
              "    fill: #1967D2;\n",
              "    height: 32px;\n",
              "    padding: 0 0 0 0;\n",
              "    width: 32px;\n",
              "  }\n",
              "\n",
              "  .colab-df-quickchart:hover {\n",
              "    background-color: #E2EBFA;\n",
              "    box-shadow: 0px 1px 2px rgba(60, 64, 67, 0.3), 0px 1px 3px 1px rgba(60, 64, 67, 0.15);\n",
              "    fill: #174EA6;\n",
              "  }\n",
              "\n",
              "  [theme=dark] .colab-df-quickchart {\n",
              "    background-color: #3B4455;\n",
              "    fill: #D2E3FC;\n",
              "  }\n",
              "\n",
              "  [theme=dark] .colab-df-quickchart:hover {\n",
              "    background-color: #434B5C;\n",
              "    box-shadow: 0px 1px 3px 1px rgba(0, 0, 0, 0.15);\n",
              "    filter: drop-shadow(0px 1px 2px rgba(0, 0, 0, 0.3));\n",
              "    fill: #FFFFFF;\n",
              "  }\n",
              "</style>\n",
              "\n",
              "    <script>\n",
              "      async function quickchart(key) {\n",
              "        const containerElement = document.querySelector('#' + key);\n",
              "        const charts = await google.colab.kernel.invokeFunction(\n",
              "            'suggestCharts', [key], {});\n",
              "      }\n",
              "    </script>\n",
              "\n",
              "      <script>\n",
              "\n",
              "function displayQuickchartButton(domScope) {\n",
              "  let quickchartButtonEl =\n",
              "    domScope.querySelector('#df-4c87f36b-c116-4afb-a1ee-1beb6feb19a3 button.colab-df-quickchart');\n",
              "  quickchartButtonEl.style.display =\n",
              "    google.colab.kernel.accessAllowed ? 'block' : 'none';\n",
              "}\n",
              "\n",
              "        displayQuickchartButton(document);\n",
              "      </script>\n",
              "      <style>\n",
              "    .colab-df-container {\n",
              "      display:flex;\n",
              "      flex-wrap:wrap;\n",
              "      gap: 12px;\n",
              "    }\n",
              "\n",
              "    .colab-df-convert {\n",
              "      background-color: #E8F0FE;\n",
              "      border: none;\n",
              "      border-radius: 50%;\n",
              "      cursor: pointer;\n",
              "      display: none;\n",
              "      fill: #1967D2;\n",
              "      height: 32px;\n",
              "      padding: 0 0 0 0;\n",
              "      width: 32px;\n",
              "    }\n",
              "\n",
              "    .colab-df-convert:hover {\n",
              "      background-color: #E2EBFA;\n",
              "      box-shadow: 0px 1px 2px rgba(60, 64, 67, 0.3), 0px 1px 3px 1px rgba(60, 64, 67, 0.15);\n",
              "      fill: #174EA6;\n",
              "    }\n",
              "\n",
              "    [theme=dark] .colab-df-convert {\n",
              "      background-color: #3B4455;\n",
              "      fill: #D2E3FC;\n",
              "    }\n",
              "\n",
              "    [theme=dark] .colab-df-convert:hover {\n",
              "      background-color: #434B5C;\n",
              "      box-shadow: 0px 1px 3px 1px rgba(0, 0, 0, 0.15);\n",
              "      filter: drop-shadow(0px 1px 2px rgba(0, 0, 0, 0.3));\n",
              "      fill: #FFFFFF;\n",
              "    }\n",
              "  </style>\n",
              "\n",
              "      <script>\n",
              "        const buttonEl =\n",
              "          document.querySelector('#df-ba204fd4-d6c2-4438-bc01-53ed969393b4 button.colab-df-convert');\n",
              "        buttonEl.style.display =\n",
              "          google.colab.kernel.accessAllowed ? 'block' : 'none';\n",
              "\n",
              "        async function convertToInteractive(key) {\n",
              "          const element = document.querySelector('#df-ba204fd4-d6c2-4438-bc01-53ed969393b4');\n",
              "          const dataTable =\n",
              "            await google.colab.kernel.invokeFunction('convertToInteractive',\n",
              "                                                     [key], {});\n",
              "          if (!dataTable) return;\n",
              "\n",
              "          const docLinkHtml = 'Like what you see? Visit the ' +\n",
              "            '<a target=\"_blank\" href=https://colab.research.google.com/notebooks/data_table.ipynb>data table notebook</a>'\n",
              "            + ' to learn more about interactive tables.';\n",
              "          element.innerHTML = '';\n",
              "          dataTable['output_type'] = 'display_data';\n",
              "          await google.colab.output.renderOutput(dataTable, element);\n",
              "          const docLink = document.createElement('div');\n",
              "          docLink.innerHTML = docLinkHtml;\n",
              "          element.appendChild(docLink);\n",
              "        }\n",
              "      </script>\n",
              "    </div>\n",
              "  </div>\n"
            ]
          },
          "metadata": {},
          "execution_count": 153
        }
      ]
    },
    {
      "cell_type": "code",
      "source": [
        "combined[[\"Smiles\", \"label\"]].to_csv(\"brd4_binary.smi\", sep=\"\\t\", header=None,index=None)"
      ],
      "metadata": {
        "id": "kXNPrYeRqzvi"
      },
      "execution_count": 201,
      "outputs": []
    },
    {
      "cell_type": "code",
      "source": [
        "!pip install rdkit"
      ],
      "metadata": {
        "colab": {
          "base_uri": "https://localhost:8080/"
        },
        "id": "T7LCZiXWsb6o",
        "outputId": "29409259-3634-4560-8903-749f90b126b5"
      },
      "execution_count": 202,
      "outputs": [
        {
          "output_type": "stream",
          "name": "stdout",
          "text": [
            "Requirement already satisfied: rdkit in /usr/local/lib/python3.10/dist-packages (2023.3.2)\n",
            "Requirement already satisfied: numpy in /usr/local/lib/python3.10/dist-packages (from rdkit) (1.22.4)\n",
            "Requirement already satisfied: Pillow in /usr/local/lib/python3.10/dist-packages (from rdkit) (8.4.0)\n"
          ]
        }
      ]
    },
    {
      "cell_type": "code",
      "source": [
        "from rdkit import Chem\n",
        "from rdkit.Chem import AllChem\n",
        "from rdkit.Chem.Draw import IPythonConsole"
      ],
      "metadata": {
        "id": "fuIt2LfesBji"
      },
      "execution_count": 203,
      "outputs": []
    },
    {
      "cell_type": "code",
      "source": [
        "t1=Chem.SmilesMolSupplier(\"brd4_binary.smi\", delimiter=\"\\t\", titleLine=False)"
      ],
      "metadata": {
        "id": "ias0o2qWsBmD"
      },
      "execution_count": 204,
      "outputs": []
    },
    {
      "cell_type": "code",
      "source": [
        "import tensorflow as tf\n",
        "from tensorflow import keras\n",
        "from tensorflow.keras import layers, callbacks\n",
        "from sklearn.preprocessing import LabelEncoder"
      ],
      "metadata": {
        "id": "cQLy7APuk2yS"
      },
      "execution_count": 205,
      "outputs": []
    },
    {
      "cell_type": "code",
      "source": [
        "# Assuming you already have the FP and IDs lists as you mentioned:\n",
        "FP, IDs = [], []\n",
        "for i, mol in enumerate(t1):\n",
        "    if mol is not None:\n",
        "        FP.append(AllChem.GetMorganFingerprintAsBitVect(mol, 2, nBits=2048))\n",
        "        IDs.append(mol.GetProp(\"_Name\"))\n",
        "\n"
      ],
      "metadata": {
        "id": "Wmx3yzipqvI-"
      },
      "execution_count": 206,
      "outputs": []
    },
    {
      "cell_type": "code",
      "source": [
        "# Convert fingerprints (FP) list to a 2D array\n",
        "X = np.array([list(fp.ToBitString()) for fp in FP], dtype=np.float32)\n",
        "y = np.array(IDs)\n",
        "\n"
      ],
      "metadata": {
        "id": "yQkp0tHirc58"
      },
      "execution_count": 207,
      "outputs": []
    },
    {
      "cell_type": "code",
      "source": [
        "# Encode the labels (IDs) to integers using LabelEncoder\n",
        "label_encoder = LabelEncoder()\n",
        "y_encoded = label_encoder.fit_transform(y)\n",
        "\n"
      ],
      "metadata": {
        "id": "gAb9-ne_rcz5"
      },
      "execution_count": 208,
      "outputs": []
    },
    {
      "cell_type": "code",
      "source": [
        "# Split the data into training and testing sets (80% train, 20% test)\n",
        "X_train, X_test, y_train, y_test = train_test_split(X, y_encoded, test_size=0.2, random_state=42)\n",
        "\n",
        "# Normalize the input data\n",
        "scaler = StandardScaler()\n",
        "X_train = scaler.fit_transform(X_train)\n",
        "X_test = scaler.transform(X_test)\n",
        "\n"
      ],
      "metadata": {
        "id": "Ktk74heErcve"
      },
      "execution_count": 211,
      "outputs": []
    },
    {
      "cell_type": "code",
      "source": [
        "# Reshape the input data to match CNN input requirements\n",
        "X_train = X_train.reshape(X_train.shape[0], 2048, 1)\n",
        "X_test = X_test.reshape(X_test.shape[0], 2048, 1)\n"
      ],
      "metadata": {
        "id": "ZmmjBzYArcq1"
      },
      "execution_count": 212,
      "outputs": []
    },
    {
      "cell_type": "code",
      "source": [
        "# Build the CNN model\n",
        "model = keras.Sequential([\n",
        "    layers.Conv1D(filters=32, kernel_size=3, activation='relu', input_shape=(2048, 1)),\n",
        "    layers.MaxPooling1D(pool_size=2),\n",
        "    layers.Flatten(),\n",
        "    layers.Dense(128, activation='relu'),\n",
        "    layers.Dropout(0.5),\n",
        "    layers.Dense(len(label_encoder.classes_), activation='sigmoid')  # Number of units matches the number of classes\n",
        "])"
      ],
      "metadata": {
        "id": "nOc9B6Clq0i2"
      },
      "execution_count": 219,
      "outputs": []
    },
    {
      "cell_type": "code",
      "source": [
        "# Compile the model with binary_crossentropy loss\n",
        "model.compile(optimizer='adam', loss='binary_crossentropy', metrics=['accuracy'])\n",
        "\n",
        "# Define early stopping callback\n",
        "early_stopping = callbacks.EarlyStopping(monitor='val_loss', patience=3, restore_best_weights=True)\n",
        "\n"
      ],
      "metadata": {
        "id": "lgWvzjlKrwUp"
      },
      "execution_count": 220,
      "outputs": []
    },
    {
      "cell_type": "markdown",
      "source": [
        "# New section"
      ],
      "metadata": {
        "id": "TeJT4MO3D080"
      }
    },
    {
      "cell_type": "code",
      "source": [
        "model.summary()"
      ],
      "metadata": {
        "colab": {
          "base_uri": "https://localhost:8080/"
        },
        "id": "xdtHYEc6rwPp",
        "outputId": "7a4186a9-6bc1-4c79-e7b3-c79930d813c5"
      },
      "execution_count": 221,
      "outputs": [
        {
          "output_type": "stream",
          "name": "stdout",
          "text": [
            "Model: \"sequential_9\"\n",
            "_________________________________________________________________\n",
            " Layer (type)                Output Shape              Param #   \n",
            "=================================================================\n",
            " conv1d_13 (Conv1D)          (None, 2046, 32)          128       \n",
            "                                                                 \n",
            " max_pooling1d_10 (MaxPoolin  (None, 1023, 32)         0         \n",
            " g1D)                                                            \n",
            "                                                                 \n",
            " flatten_10 (Flatten)        (None, 32736)             0         \n",
            "                                                                 \n",
            " dense_14 (Dense)            (None, 128)               4190336   \n",
            "                                                                 \n",
            " dropout_6 (Dropout)         (None, 128)               0         \n",
            "                                                                 \n",
            " dense_15 (Dense)            (None, 2)                 258       \n",
            "                                                                 \n",
            "=================================================================\n",
            "Total params: 4,190,722\n",
            "Trainable params: 4,190,722\n",
            "Non-trainable params: 0\n",
            "_________________________________________________________________\n"
          ]
        }
      ]
    },
    {
      "cell_type": "code",
      "source": [
        "# Train the model with early stopping\n",
        "model.fit(X_train, keras.utils.to_categorical(y_train), epochs=100, batch_size=32, validation_data=(X_test, keras.utils.to_categorical(y_test)), callbacks=[early_stopping])\n",
        "\n"
      ],
      "metadata": {
        "colab": {
          "base_uri": "https://localhost:8080/"
        },
        "id": "Gd9OgHLwrwMD",
        "outputId": "c1254b87-41eb-4079-91e1-3708af1e1a23"
      },
      "execution_count": 222,
      "outputs": [
        {
          "output_type": "stream",
          "name": "stdout",
          "text": [
            "Epoch 1/100\n",
            "58/58 [==============================] - 7s 106ms/step - loss: 0.3835 - accuracy: 0.8515 - val_loss: 0.2778 - val_accuracy: 0.8954\n",
            "Epoch 2/100\n",
            "58/58 [==============================] - 7s 127ms/step - loss: 0.2474 - accuracy: 0.8941 - val_loss: 0.2757 - val_accuracy: 0.9063\n",
            "Epoch 3/100\n",
            "58/58 [==============================] - 6s 100ms/step - loss: 0.2075 - accuracy: 0.9116 - val_loss: 0.2673 - val_accuracy: 0.9085\n",
            "Epoch 4/100\n",
            "58/58 [==============================] - 8s 131ms/step - loss: 0.1654 - accuracy: 0.9279 - val_loss: 0.3015 - val_accuracy: 0.9085\n",
            "Epoch 5/100\n",
            "58/58 [==============================] - 6s 99ms/step - loss: 0.1388 - accuracy: 0.9389 - val_loss: 0.3254 - val_accuracy: 0.9150\n",
            "Epoch 6/100\n",
            "58/58 [==============================] - 8s 138ms/step - loss: 0.1069 - accuracy: 0.9481 - val_loss: 0.3243 - val_accuracy: 0.9150\n"
          ]
        },
        {
          "output_type": "execute_result",
          "data": {
            "text/plain": [
              "<keras.callbacks.History at 0x7b276f58c4f0>"
            ]
          },
          "metadata": {},
          "execution_count": 222
        }
      ]
    },
    {
      "cell_type": "code",
      "source": [
        "# Evaluate the model on the test set\n",
        "loss, accuracy = model.evaluate(X_test, keras.utils.to_categorical(y_test))\n",
        "print(\"Test Accuracy:\", accuracy)"
      ],
      "metadata": {
        "colab": {
          "base_uri": "https://localhost:8080/"
        },
        "id": "DGq_LoaHsCQv",
        "outputId": "4040a7a0-dd29-42db-8ff7-e37de428986a"
      },
      "execution_count": 223,
      "outputs": [
        {
          "output_type": "stream",
          "name": "stdout",
          "text": [
            "15/15 [==============================] - 0s 19ms/step - loss: 0.2673 - accuracy: 0.9085\n",
            "Test Accuracy: 0.9084967374801636\n"
          ]
        }
      ]
    },
    {
      "cell_type": "code",
      "source": [
        "predicted=model.predict(X_test)"
      ],
      "metadata": {
        "colab": {
          "base_uri": "https://localhost:8080/"
        },
        "id": "DpqhYYXqk1EK",
        "outputId": "88eca6b1-7474-4611-8773-8692a919f533"
      },
      "execution_count": 225,
      "outputs": [
        {
          "output_type": "stream",
          "name": "stdout",
          "text": [
            "15/15 [==============================] - 0s 19ms/step\n"
          ]
        }
      ]
    },
    {
      "cell_type": "code",
      "source": [
        "#save the model\n",
        "model.save(\"brd4\")"
      ],
      "metadata": {
        "colab": {
          "base_uri": "https://localhost:8080/"
        },
        "id": "T6nF26jT5zzH",
        "outputId": "55491cd5-0d40-4e14-ecdc-e2cc9fd57af1"
      },
      "execution_count": 235,
      "outputs": [
        {
          "output_type": "stream",
          "name": "stderr",
          "text": [
            "WARNING:absl:Found untraced functions such as _jit_compiled_convolution_op, _update_step_xla while saving (showing 2 of 2). These functions will not be directly callable after loading.\n"
          ]
        }
      ]
    },
    {
      "cell_type": "code",
      "source": [],
      "metadata": {
        "id": "-DwO727lDK42"
      },
      "execution_count": null,
      "outputs": []
    },
    {
      "cell_type": "code",
      "source": [],
      "metadata": {
        "id": "YPQ-3iVMDLAF"
      },
      "execution_count": null,
      "outputs": []
    }
  ]
}